{
 "cells": [
  {
   "cell_type": "markdown",
   "metadata": {},
   "source": [
    "# Crawling Emotional Words and show ratios in PieChart"
   ]
  },
  {
   "cell_type": "code",
   "execution_count": 1,
   "metadata": {},
   "outputs": [],
   "source": [
    "# 필요한 라이브러리 불러오기\n",
    "import warnings\n",
    "warnings.filterwarnings(action='ignore')\n",
    "from selenium import webdriver as wd\n",
    "from webdriver_manager.chrome import ChromeDriverManager\n",
    "from bs4 import BeautifulSoup\n",
    "import requests\n",
    "import time\n",
    "import random\n",
    "import re\n",
    "import pandas as pd\n",
    "from konlpy.tag import Okt\n",
    "okt = Okt()"
   ]
  },
  {
   "cell_type": "code",
   "execution_count": 2,
   "metadata": {},
   "outputs": [],
   "source": [
    "import matplotlib.pyplot as plt"
   ]
  },
  {
   "cell_type": "code",
   "execution_count": 3,
   "metadata": {},
   "outputs": [],
   "source": [
    "# 불용어 사전 불러오기\n",
    "with open('stop_words.txt', 'r') as file:\n",
    "    stop_word = file.readline()\n",
    "    stop_word = str(stop_word)\n",
    "    \n",
    "stop_word = stop_word.replace(\"\\ufeff\", '').replace(\"'\", '').replace(\",\", '').replace('\\n', '').replace(\"’\", '').replace(\"‘\", '')\n",
    "stop_words = stop_word.split()"
   ]
  },
  {
   "cell_type": "code",
   "execution_count": 4,
   "metadata": {},
   "outputs": [
    {
     "data": {
      "text/html": [
       "<div>\n",
       "<style scoped>\n",
       "    .dataframe tbody tr th:only-of-type {\n",
       "        vertical-align: middle;\n",
       "    }\n",
       "\n",
       "    .dataframe tbody tr th {\n",
       "        vertical-align: top;\n",
       "    }\n",
       "\n",
       "    .dataframe thead th {\n",
       "        text-align: right;\n",
       "    }\n",
       "</style>\n",
       "<table border=\"1\" class=\"dataframe\">\n",
       "  <thead>\n",
       "    <tr style=\"text-align: right;\">\n",
       "      <th></th>\n",
       "      <th>Song Title</th>\n",
       "      <th>Site Link</th>\n",
       "      <th>Emotional Words</th>\n",
       "    </tr>\n",
       "  </thead>\n",
       "  <tbody>\n",
       "    <tr>\n",
       "      <th>0</th>\n",
       "      <td>미쳐</td>\n",
       "      <td>https://www.melon.com/song/detail.htm?songId=5...</td>\n",
       "      <td>NaN</td>\n",
       "    </tr>\n",
       "    <tr>\n",
       "      <th>1</th>\n",
       "      <td>Badboy</td>\n",
       "      <td>https://www.melon.com/song/detail.htm?songId=3...</td>\n",
       "      <td>NaN</td>\n",
       "    </tr>\n",
       "    <tr>\n",
       "      <th>2</th>\n",
       "      <td>HIP</td>\n",
       "      <td>https://www.melon.com/song/detail.htm?songId=3...</td>\n",
       "      <td>NaN</td>\n",
       "    </tr>\n",
       "    <tr>\n",
       "      <th>3</th>\n",
       "      <td>DUN DUN</td>\n",
       "      <td>https://www.melon.com/song/detail.htm?songId=3...</td>\n",
       "      <td>NaN</td>\n",
       "    </tr>\n",
       "    <tr>\n",
       "      <th>4</th>\n",
       "      <td>How You Like That</td>\n",
       "      <td>https://www.melon.com/song/detail.htm?songId=3...</td>\n",
       "      <td>NaN</td>\n",
       "    </tr>\n",
       "    <tr>\n",
       "      <th>5</th>\n",
       "      <td>TT</td>\n",
       "      <td>https://www.melon.com/song/detail.htm?songId=3...</td>\n",
       "      <td>NaN</td>\n",
       "    </tr>\n",
       "    <tr>\n",
       "      <th>6</th>\n",
       "      <td>뿜뿜</td>\n",
       "      <td>https://www.melon.com/song/detail.htm?songId=3...</td>\n",
       "      <td>NaN</td>\n",
       "    </tr>\n",
       "    <tr>\n",
       "      <th>7</th>\n",
       "      <td>롤린</td>\n",
       "      <td>https://www.melon.com/song/detail.htm?songId=3...</td>\n",
       "      <td>NaN</td>\n",
       "    </tr>\n",
       "    <tr>\n",
       "      <th>8</th>\n",
       "      <td>Alcohol-Free</td>\n",
       "      <td>https://www.melon.com/song/detail.htm?songId=3...</td>\n",
       "      <td>NaN</td>\n",
       "    </tr>\n",
       "    <tr>\n",
       "      <th>9</th>\n",
       "      <td>DunDun Dance</td>\n",
       "      <td>https://www.melon.com/song/detail.htm?songId=3...</td>\n",
       "      <td>NaN</td>\n",
       "    </tr>\n",
       "    <tr>\n",
       "      <th>10</th>\n",
       "      <td>에너제틱</td>\n",
       "      <td>https://www.melon.com/song/detail.htm?songId=3...</td>\n",
       "      <td>NaN</td>\n",
       "    </tr>\n",
       "    <tr>\n",
       "      <th>11</th>\n",
       "      <td>Love Shot</td>\n",
       "      <td>https://www.melon.com/song/detail.htm?songId=3...</td>\n",
       "      <td>NaN</td>\n",
       "    </tr>\n",
       "    <tr>\n",
       "      <th>12</th>\n",
       "      <td>Dynamite</td>\n",
       "      <td>https://www.melon.com/song/detail.htm?songId=3...</td>\n",
       "      <td>NaN</td>\n",
       "    </tr>\n",
       "    <tr>\n",
       "      <th>13</th>\n",
       "      <td>영웅</td>\n",
       "      <td>https://www.melon.com/song/detail.htm?songId=3...</td>\n",
       "      <td>NaN</td>\n",
       "    </tr>\n",
       "  </tbody>\n",
       "</table>\n",
       "</div>"
      ],
      "text/plain": [
       "           Song Title                                          Site Link  \\\n",
       "0                  미쳐  https://www.melon.com/song/detail.htm?songId=5...   \n",
       "1              Badboy  https://www.melon.com/song/detail.htm?songId=3...   \n",
       "2                 HIP  https://www.melon.com/song/detail.htm?songId=3...   \n",
       "3             DUN DUN  https://www.melon.com/song/detail.htm?songId=3...   \n",
       "4   How You Like That  https://www.melon.com/song/detail.htm?songId=3...   \n",
       "5                  TT  https://www.melon.com/song/detail.htm?songId=3...   \n",
       "6                  뿜뿜  https://www.melon.com/song/detail.htm?songId=3...   \n",
       "7                  롤린  https://www.melon.com/song/detail.htm?songId=3...   \n",
       "8        Alcohol-Free  https://www.melon.com/song/detail.htm?songId=3...   \n",
       "9        DunDun Dance  https://www.melon.com/song/detail.htm?songId=3...   \n",
       "10               에너제틱  https://www.melon.com/song/detail.htm?songId=3...   \n",
       "11          Love Shot  https://www.melon.com/song/detail.htm?songId=3...   \n",
       "12           Dynamite  https://www.melon.com/song/detail.htm?songId=3...   \n",
       "13                 영웅  https://www.melon.com/song/detail.htm?songId=3...   \n",
       "\n",
       "    Emotional Words  \n",
       "0               NaN  \n",
       "1               NaN  \n",
       "2               NaN  \n",
       "3               NaN  \n",
       "4               NaN  \n",
       "5               NaN  \n",
       "6               NaN  \n",
       "7               NaN  \n",
       "8               NaN  \n",
       "9               NaN  \n",
       "10              NaN  \n",
       "11              NaN  \n",
       "12              NaN  \n",
       "13              NaN  "
      ]
     },
     "execution_count": 4,
     "metadata": {},
     "output_type": "execute_result"
    }
   ],
   "source": [
    "# 곡 제목, 유튜브 링크가 있는 데이터 프레임(엑셀 파일)을 불러옴\n",
    "data = pd.read_excel('/Users/lifeofpy/WebCrwaling/Melon/melon_with_comments.xlsx')\n",
    "data"
   ]
  },
  {
   "cell_type": "code",
   "execution_count": 5,
   "metadata": {},
   "outputs": [
    {
     "data": {
      "text/plain": [
       "nan"
      ]
     },
     "execution_count": 5,
     "metadata": {},
     "output_type": "execute_result"
    }
   ],
   "source": [
    "data['Emotional Words'][0]  # 비어있는 nan 값의 Emotional Words 열을 감정 단어로 채우자!"
   ]
  },
  {
   "cell_type": "code",
   "execution_count": 6,
   "metadata": {
    "scrolled": false
   },
   "outputs": [
    {
     "data": {
      "text/plain": [
       "['https://www.melon.com/song/detail.htm?songId=5584641',\n",
       " 'https://www.melon.com/song/detail.htm?songId=30864993',\n",
       " 'https://www.melon.com/song/detail.htm?songId=32175937',\n",
       " 'https://www.melon.com/song/detail.htm?songId=32351853',\n",
       " 'https://www.melon.com/song/detail.htm?songId=32720013',\n",
       " 'https://www.melon.com/song/detail.htm?songId=30054344',\n",
       " 'https://www.melon.com/song/detail.htm?songId=30816860',\n",
       " 'https://www.melon.com/song/detail.htm?songId=30287019',\n",
       " 'https://www.melon.com/song/detail.htm?songId=33559180',\n",
       " 'https://www.melon.com/song/detail.htm?songId=33464805',\n",
       " 'https://www.melon.com/song/detail.htm?songId=30568338',\n",
       " 'https://www.melon.com/song/detail.htm?songId=31492319',\n",
       " 'https://www.melon.com/song/detail.htm?songId=32872978',\n",
       " 'https://www.melon.com/song/detail.htm?songId=32393669']"
      ]
     },
     "execution_count": 6,
     "metadata": {},
     "output_type": "execute_result"
    }
   ],
   "source": [
    "data_lst = data['Site Link'].tolist() # Series to List\n",
    "data_lst"
   ]
  },
  {
   "cell_type": "code",
   "execution_count": 7,
   "metadata": {},
   "outputs": [],
   "source": [
    "driver = wd.Chrome(executable_path='/Users/lifeofpy/Desktop/chromedriver')"
   ]
  },
  {
   "cell_type": "code",
   "execution_count": 9,
   "metadata": {},
   "outputs": [],
   "source": [
    "# 감정 단어 카운트\n",
    "emotional_words = 0\n",
    "\n",
    "# 모든 단어 카운트\n",
    "all_words = 0\n",
    "\n",
    "\n",
    "# 형용사 태그만 담을 리스트 정의\n",
    "adj = []\n",
    "\n",
    "\n",
    "# 단어-품사 태그 쌍을 담을 리스트 okt 생성\n",
    "okts = []"
   ]
  },
  {
   "cell_type": "code",
   "execution_count": 10,
   "metadata": {},
   "outputs": [],
   "source": [
    "for k in range(len(data)):\n",
    "    \n",
    "    # 댓글 페이지 개수 구하기\n",
    "    driver = wd.Chrome(executable_path='/Users/lifeofpy/Desktop/chromedriver')\n",
    "    page_url = data_lst[k] # url 에 페이지 링크를 하나씩 담아준다\n",
    "    driver.get(page_url)\n",
    "    comments = []\n",
    "    \n",
    "    html = driver.page_source\n",
    "    soup = BeautifulSoup(html, 'html.parser')\n",
    "    pages = soup.find_all('span', {'class': 'd_cmtpgn_srch_cnt'})[0]\n",
    "\n",
    "    # 일단 추출된 태그를 문자열로 바꾸기\n",
    "    pages = str(pages)\n",
    "\n",
    "    # 정규식을 통해 태그에서 숫자(=댓글 개수)만 추출하기\n",
    "    cmt_num = re.findall('\\d+', pages)\n",
    "    page_num = \"\".join(cmt_num)\n",
    "    page_num = int(page_num)\n",
    "    page_num = page_num//10\n",
    "        \n",
    "    # 댓글 페이지마다 바뀔 url 생성\n",
    "    url = page_url + '#cmtpgn=&pageNo={}&sortType=0&srchType=2&srchWord='\n",
    "    \n",
    "    \n",
    "    for i in range(0, page_num+1):\n",
    "        link = url.format(i) # {} 안에 들어갈 문자열 포매팅\n",
    "        driver.get(link)\n",
    "        driver.implicitly_wait(2)\n",
    "\n",
    "        html = driver.page_source\n",
    "        soup = BeautifulSoup(html, 'html.parser')\n",
    "        comment = soup.find_all('div', {'class': 'd_cmtpgn_cmt_full_contents'})\n",
    "\n",
    "        for r in comment:\n",
    "            comments.append(r.get_text().strip())\n",
    "    \n",
    "    \n",
    "    melon_comments = []\n",
    "    melon_comments = comments\n",
    "    \n",
    "    # 댓글이 모인 comments 리스트에서 필요없는 문자 처리하기\n",
    "    for j in range(len(melon_comments)):\n",
    "        if '내용' in melon_comments[j]:\n",
    "            melon_comments[j] = melon_comments[j].replace('내용', '')\n",
    "\n",
    "    \n",
    "    for i in range(len(melon_comments)):\n",
    "        okts.append(okt.pos(melon_comments[i]))\n",
    "    \n",
    "    # '감정 단어'의 품사는 '형용사'이므로 형용사 태그만 adj 리스트에 담기\n",
    "\n",
    "    for i in range(len(okts)):\n",
    "        for j in range(len(okts[i])):\n",
    "            if okts[i][j][1] == 'Adjective' and len(okts[i][j][0]) > 1:\n",
    "                adj.append(okts[i][j][0])"
   ]
  },
  {
   "cell_type": "markdown",
   "metadata": {},
   "source": [
    "전체 댓글을 기준으로 adj 리스트에 있는 모든 댓글에 있는 형용사 중에서 감정 단어인 것과 감정 단어가 아닌 것을 분류하면 됨."
   ]
  },
  {
   "cell_type": "code",
   "execution_count": 11,
   "metadata": {},
   "outputs": [],
   "source": [
    "# 불용어 제외하고 real_adj 에 담기\n",
    "for w in adj:\n",
    "    if w not in stop_words:\n",
    "        emotional_words += 1"
   ]
  },
  {
   "cell_type": "code",
   "execution_count": 12,
   "metadata": {},
   "outputs": [
    {
     "data": {
      "text/plain": [
       "162681"
      ]
     },
     "execution_count": 12,
     "metadata": {},
     "output_type": "execute_result"
    }
   ],
   "source": [
    "emotional_words"
   ]
  },
  {
   "cell_type": "code",
   "execution_count": 13,
   "metadata": {},
   "outputs": [],
   "source": [
    "for i in range(len(okts)):\n",
    "    for j in range(len(okts[i])):\n",
    "        all_words += 1"
   ]
  },
  {
   "cell_type": "code",
   "execution_count": 14,
   "metadata": {},
   "outputs": [],
   "source": [
    "non_emotional_words = all_words - emotional_words"
   ]
  },
  {
   "cell_type": "code",
   "execution_count": 15,
   "metadata": {},
   "outputs": [
    {
     "data": {
      "text/plain": [
       "884874"
      ]
     },
     "execution_count": 15,
     "metadata": {},
     "output_type": "execute_result"
    }
   ],
   "source": [
    "non_emotional_words"
   ]
  },
  {
   "cell_type": "code",
   "execution_count": 24,
   "metadata": {},
   "outputs": [
    {
     "data": {
      "text/plain": [
       "1047555"
      ]
     },
     "execution_count": 24,
     "metadata": {},
     "output_type": "execute_result"
    }
   ],
   "source": [
    "all_words"
   ]
  },
  {
   "cell_type": "markdown",
   "metadata": {},
   "source": [
    "### 댓글에 드러난 감정 단어 비율 파이 차트로 나타내기"
   ]
  },
  {
   "cell_type": "code",
   "execution_count": 16,
   "metadata": {},
   "outputs": [],
   "source": [
    "import seaborn as sns"
   ]
  },
  {
   "cell_type": "code",
   "execution_count": 23,
   "metadata": {},
   "outputs": [
    {
     "data": {
      "image/png": "[encoded data removed]",
      "text/plain": [
       "<Figure size 432x288 with 1 Axes>"
      ]
     },
     "metadata": {},
     "output_type": "display_data"
    }
   ],
   "source": [
    "ratio = [emotional_words, non_emotional_words]\n",
    "labels = ['감정 단어', '비-감정 단어']\n",
    "\n",
    "# 컬러 팔레트 사용\n",
    "colors = sns.color_palette('hls',len(labels))\n",
    "plt.rcParams['font.family'] = 'AppleGothic'\n",
    "plt.pie(ratio, labels=labels, autopct='%1.f%%', colors=colors)\n",
    "plt.title('멜론 사이트 댓글에 드러난 감정 단어의 비율', fontsize=15)\n",
    "plt.show()"
   ]
  },
  {
   "cell_type": "code",
   "execution_count": null,
   "metadata": {},
   "outputs": [],
   "source": []
  }
 ],
 "metadata": {
  "kernelspec": {
   "display_name": "Python 3",
   "language": "python",
   "name": "python3"
  }
 },
 "nbformat": 4,
 "nbformat_minor": 4
}
