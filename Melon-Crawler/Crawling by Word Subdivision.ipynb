{
 "cells": [
  {
   "cell_type": "markdown",
   "metadata": {},
   "source": [
    "# Crawling by Word Subdivision"
   ]
  },
  {
   "cell_type": "code",
   "execution_count": 1,
   "metadata": {},
   "outputs": [],
   "source": [
    "# 필요한 라이브러리 불러오기\n",
    "import warnings\n",
    "warnings.filterwarnings(action='ignore')\n",
    "from selenium import webdriver as wd\n",
    "from webdriver_manager.chrome import ChromeDriverManager\n",
    "from bs4 import BeautifulSoup\n",
    "import requests\n",
    "import time\n",
    "import random\n",
    "import re"
   ]
  },
  {
   "cell_type": "code",
   "execution_count": 2,
   "metadata": {},
   "outputs": [],
   "source": [
    "# 불용어 사전 불러오기\n",
    "with open('stop_words.txt', 'r') as file:\n",
    "    stop_word = file.readline()\n",
    "    stop_word = str(stop_word)\n",
    "    \n",
    "stop_word = stop_word.replace(\"\\ufeff\", '').replace(\"'\", '').replace(\",\", '').replace('\\n', '').replace(\"’\", '').replace(\"‘\", '')\n",
    "stop_words = stop_word.split()"
   ]
  },
  {
   "cell_type": "code",
   "execution_count": 3,
   "metadata": {},
   "outputs": [],
   "source": [
    "driver = wd.Chrome(executable_path='/Users/lifeofpy/Desktop/chromedriver')\n",
    "url = 'https://www.melon.com/song/detail.htm?songId=30753021#cmtpgn=&pageNo={}&sortType=0&srchType=2&srchWord='\n",
    "comments = []"
   ]
  },
  {
   "cell_type": "code",
   "execution_count": 4,
   "metadata": {},
   "outputs": [
    {
     "data": {
      "text/plain": [
       "8"
      ]
     },
     "execution_count": 4,
     "metadata": {},
     "output_type": "execute_result"
    }
   ],
   "source": [
    "# 페이지 개수 가져오기\n",
    "# 페이지 개수를 가져오기 위해서는 댓글 개수가 필요하다. \n",
    "# (하나의 페이지에 댓글 10개가 있기 때문에 댓글 개수 나누기 10 = 페이지 개수)\n",
    "page_num = 0\n",
    "page_url = 'https://www.melon.com/song/detail.htm?songId=34041583'\n",
    "driver.get(page_url)\n",
    "html = driver.page_source\n",
    "soup = BeautifulSoup(html, 'html.parser')\n",
    "pages = soup.find_all('span', {'class': 'd_cmtpgn_srch_cnt'})[0]\n",
    "\n",
    "# 일단 추출된 태그를 문자열로 바꾸기\n",
    "pages = str(pages)\n",
    "\n",
    "# 정규식을 통해 태그에서 숫자(=댓글 개수)만 추출하기\n",
    "cmt_num = re.findall('\\d+', pages)\n",
    "page_num = \"\".join(cmt_num)\n",
    "page_num = int(page_num)\n",
    "page_num = page_num//10\n",
    "\n",
    "# 일단 추출된 태그를 문자열로 바꾸기\n",
    "pages = str(pages)\n",
    "\n",
    "# 정규식을 통해 태그에서 숫자(=댓글 개수)만 추출하기\n",
    "cmt_num = re.findall('\\d+', pages)\n",
    "\n",
    "for i in cmt_num:\n",
    "    page_num = int(i) // 10\n",
    "\n",
    "# 페이지 개수\n",
    "page_num"
   ]
  },
  {
   "cell_type": "code",
   "execution_count": 5,
   "metadata": {},
   "outputs": [],
   "source": [
    "# 멜론 홈페이지에서 댓글 가져와서 리스트로 저장하기\n",
    "for i in range(0, page_num+2):\n",
    "    link = url.format(i)\n",
    "    driver.get(link)\n",
    "    driver.implicitly_wait(2)\n",
    "    \n",
    "    html = driver.page_source\n",
    "    soup = BeautifulSoup(html, 'html.parser')\n",
    "    comment = soup.find_all('div', {'class': 'd_cmtpgn_cmt_full_contents'})\n",
    "    \n",
    "    for r in comment:\n",
    "        comments.append(r.get_text().strip())"
   ]
  },
  {
   "cell_type": "code",
   "execution_count": 6,
   "metadata": {},
   "outputs": [],
   "source": [
    "melon_comments = []\n",
    "melon_comments = comments"
   ]
  },
  {
   "cell_type": "code",
   "execution_count": 7,
   "metadata": {
    "scrolled": true
   },
   "outputs": [],
   "source": [
    "# 댓글이 모인 comments 리스트에서 필요없는 문자 처리하기\n",
    "for j in range(len(melon_comments)):\n",
    "    if '내용' in melon_comments[j]:\n",
    "        melon_comments[j] = melon_comments[j].replace('내용', '')"
   ]
  },
  {
   "cell_type": "code",
   "execution_count": 8,
   "metadata": {},
   "outputs": [
    {
     "name": "stdout",
     "output_type": "stream",
     "text": [
      "[' \\t\\t\\t\\t\\t\\t\\t\\t\\t\\t소공녀', ' \\t\\t\\t\\t\\t\\t\\t\\t\\t\\t감성이라는 이 두 글자를 담은 노래', ' \\t\\t\\t\\t\\t\\t\\t\\t\\t\\t눈 많이 와서커다란 눈사람 만들 수 있으면 좋겠다', ' \\t\\t\\t\\t\\t\\t\\t\\t\\t\\t겨울 보고 싶다 겨울 되고 싶다', ' \\t\\t\\t\\t\\t\\t\\t\\t\\t\\t올 겨울은 눈이 많이 왔으면 좋겠다..', ' \\t\\t\\t\\t\\t\\t\\t\\t\\t\\t겨울에 눈보면서 코코아마시면서 듣고싶다 ㅜㅜ감성 최고다!! 역시 자이언티..', ' \\t\\t\\t\\t\\t\\t\\t\\t\\t\\t천재….', ' \\t\\t\\t\\t\\t\\t\\t\\t\\t\\t여름에 들어도 밖에보면 눈와 있을거 같다', ' \\t\\t\\t\\t\\t\\t\\t\\t\\t\\t겨울을 기다리며 여름에도 들어요', ' \\t\\t\\t\\t\\t\\t\\t\\t\\t\\t좋다 많이', ' \\t\\t\\t\\t\\t\\t\\t\\t\\t\\t소공녀', ' \\t\\t\\t\\t\\t\\t\\t\\t\\t\\t감성이라는 이 두 글자를 담은 노래', ' \\t\\t\\t\\t\\t\\t\\t\\t\\t\\t눈 많이 와서커다란 눈사람 만들 수 있으면 좋겠다', ' \\t\\t\\t\\t\\t\\t\\t\\t\\t\\t겨울 보고 싶다 겨울 되고 싶다', ' \\t\\t\\t\\t\\t\\t\\t\\t\\t\\t올 겨울은 눈이 많이 왔으면 좋겠다..', ' \\t\\t\\t\\t\\t\\t\\t\\t\\t\\t겨울에 눈보면서 코코아마시면서 듣고싶다 ㅜㅜ감성 최고다!! 역시 자이언티..', ' \\t\\t\\t\\t\\t\\t\\t\\t\\t\\t천재….', ' \\t\\t\\t\\t\\t\\t\\t\\t\\t\\t여름에 들어도 밖에보면 눈와 있을거 같다', ' \\t\\t\\t\\t\\t\\t\\t\\t\\t\\t겨울을 기다리며 여름에도 들어요', ' \\t\\t\\t\\t\\t\\t\\t\\t\\t\\t좋다 많이', ' \\t\\t\\t\\t\\t\\t\\t\\t\\t\\t소공녀', ' \\t\\t\\t\\t\\t\\t\\t\\t\\t\\t감성이라는 이 두 글자를 담은 노래', ' \\t\\t\\t\\t\\t\\t\\t\\t\\t\\t눈 많이 와서커다란 눈사람 만들 수 있으면 좋겠다', ' \\t\\t\\t\\t\\t\\t\\t\\t\\t\\t겨울 보고 싶다 겨울 되고 싶다', ' \\t\\t\\t\\t\\t\\t\\t\\t\\t\\t올 겨울은 눈이 많이 왔으면 좋겠다..', ' \\t\\t\\t\\t\\t\\t\\t\\t\\t\\t겨울에 눈보면서 코코아마시면서 듣고싶다 ㅜㅜ감성 최고다!! 역시 자이언티..', ' \\t\\t\\t\\t\\t\\t\\t\\t\\t\\t천재….', ' \\t\\t\\t\\t\\t\\t\\t\\t\\t\\t여름에 들어도 밖에보면 눈와 있을거 같다', ' \\t\\t\\t\\t\\t\\t\\t\\t\\t\\t겨울을 기다리며 여름에도 들어요', ' \\t\\t\\t\\t\\t\\t\\t\\t\\t\\t좋다 많이', ' \\t\\t\\t\\t\\t\\t\\t\\t\\t\\t정말 좋다.. 문득 눈이 내리던 겨울의 언젠가가 떠오르는.. 너무 좋다....  겨울 특유의 따뜻함이 가득한 노래', ' \\t\\t\\t\\t\\t\\t\\t\\t\\t\\t그냥 많은 생각나네', ' \\t\\t\\t\\t\\t\\t\\t\\t\\t\\t겨울에 막상 들으면 이 느낌이 아니었는데 퓨ㅠㅠ 다른계절에 겨울 생각하며 들으면 더 아련해', ' \\t\\t\\t\\t\\t\\t\\t\\t\\t\\t봄 인데도 들으니 좋다', ' \\t\\t\\t\\t\\t\\t\\t\\t\\t\\t최준 아님?????.', ' \\t\\t\\t\\t\\t\\t\\t\\t\\t\\t자려고 누웠는데 갑자기 생각난 노래좋다', ' \\t\\t\\t\\t\\t\\t\\t\\t\\t\\t봄에 들어도 너무 좋네..겨울 눈을 대신해 지금은 벚꽃 눈ㅎㅎ', ' \\t\\t\\t\\t\\t\\t\\t\\t\\t\\t아빠가 젊었을 적 연애하시며 썼던 편지(1절)가세월이 흘러서 그때를 회상(2절)하는 것 같고...', ' \\t\\t\\t\\t\\t\\t\\t\\t\\t\\t유난히 지긋지긋했던 올해 겨울도 지나가고 나니 그리워지네.. 이 노래를 들으니 더욱더. 올해 봄 여름 가을도 잘 지내고 다시 내릴 눈을 기다린다', ' \\t\\t\\t\\t\\t\\t\\t\\t\\t\\t1절에서는 약속해요 라고 말하고2절에서는 약속했죠 라고 말하네요.마지막 소절어제 우리 말한대로 차를 한잔 내려드릴게요 라는 소절에서저는 한 사람이 홀로 차를 내리고 있는 모습이 연상되었습니다..', ' \\t\\t\\t\\t\\t\\t\\t\\t\\t\\t오늘 복면가왕에서 1라운드에서 꼬막님이 불렀던 노래♡', ' \\t\\t\\t\\t\\t\\t\\t\\t\\t\\t눈 오는날엔 꼭 들어요 ^^', ' \\t\\t\\t\\t\\t\\t\\t\\t\\t\\t흰 눈이 펑펑 내리는 오늘 밤, 따뜻한 이불속에서 들으니 너무 좋아요.', ' \\t\\t\\t\\t\\t\\t\\t\\t\\t\\t잠이 안올 때 전화하면서 불러준 이 노래가 너무 생각나서', ' \\t\\t\\t\\t\\t\\t\\t\\t\\t\\t그러니까 자이언티랑 이문세랑 같이 잤다는 거지?', ' \\t\\t\\t\\t\\t\\t\\t\\t\\t\\t새벽5시에 잠깐 깨서 듣고싶어진 노래. 넘 좋당~', ' \\t\\t\\t\\t\\t\\t\\t\\t\\t\\t좋다요', ' \\t\\t\\t\\t\\t\\t\\t\\t\\t\\t지하철 계단 올라가는데이 노래가 마침 이어폰에서 나와서 출근길이 분위기 너무 좋음영화같다 고마워요', ' \\t\\t\\t\\t\\t\\t\\t\\t\\t\\t아!이제생각나서 이제듣네!!아!!1개월손해봄ㅠ', ' \\t\\t\\t\\t\\t\\t\\t\\t\\t\\t눈 진짜 많이 내린다,,⛄️', ' \\t\\t\\t\\t\\t\\t\\t\\t\\t\\t언티오빠 차 언제 타줄거야 지금 4잔 밀렸어', ' \\t\\t\\t\\t\\t\\t\\t\\t\\t\\t낼~눈온데요~~^^', ' \\t\\t\\t\\t\\t\\t\\t\\t\\t\\t눈꽃연금', ' \\t\\t\\t\\t\\t\\t\\t\\t\\t\\t눈이 오네요~', ' \\t\\t\\t\\t\\t\\t\\t\\t\\t\\t여름엔 벚꽃연금이라면 겨울엔 눈꽃연금', ' \\t\\t\\t\\t\\t\\t\\t\\t\\t\\t눈 오면 듣자', ' \\t\\t\\t\\t\\t\\t\\t\\t\\t\\t겨울이니까 많이듣는노래', ' \\t\\t\\t\\t\\t\\t\\t\\t\\t\\t일년에 한번씩 꼭 올게요', ' \\t\\t\\t\\t\\t\\t\\t\\t\\t\\t오늘 눈와있어서 또 듣구', ' \\t\\t\\t\\t\\t\\t\\t\\t\\t\\t전 믹스', ' \\t\\t\\t\\t\\t\\t\\t\\t\\t\\t홍차를 한잔 내어주세요', ' \\t\\t\\t\\t\\t\\t\\t\\t\\t\\t눈오는날 눈연금곡 ㅎㅎ 자이언티 흥해라~!!❤️', ' \\t\\t\\t\\t\\t\\t\\t\\t\\t\\t눈내려서 들어왔는데 댓글 777뭐야', ' \\t\\t\\t\\t\\t\\t\\t\\t\\t\\t함박눈 내리자마자 멜론 켜서 눈 들음.가사랑 창 밖 풍경이 너무 잘 어울려..', ' \\t\\t\\t\\t\\t\\t\\t\\t\\t\\t일년 뒤 눈오는 오늘도 이노랠 듣고있네요. 처음같이 깬 그날엔 커튼밖에 눈이 오길 바라며 들었고,오늘은 지나간 그날이 그리워 듣습니다.', ' \\t\\t\\t\\t\\t\\t\\t\\t\\t\\t눈이 내려서 왔습니다', ' \\t\\t\\t\\t\\t\\t\\t\\t\\t\\t지금 듣기 딱 좋네요 ㅎㅎ', ' \\t\\t\\t\\t\\t\\t\\t\\t\\t\\t한참 이 노래가 막 나왔을 때 눈이 오는 날 그 사람에게 아침 일찍부터 연락해서 눈 온다고 알려주고 이 노래도 들어봐 했었던 기억이 난다. 그 아침의 서늘함도 서로를 생각하던 마음의 온도도 이제 너무 많이 변했고 연락도 못하지만.. 어디서든 응원하면서 살테니까 미안한 마음 이제 그만 내려놓고 같이 있으면 좋았던 사람으로 기억속에 남겨주라', ' \\t\\t\\t\\t\\t\\t\\t\\t\\t\\t밖에 눈 온다 2021 나의 첫눈 ***눈이 와요 ***', ' \\t\\t\\t\\t\\t\\t\\t\\t\\t\\t오늘 눈오는데 딱 생각나네요 ღ', ' \\t\\t\\t\\t\\t\\t\\t\\t\\t\\t눈 오는 새벽에 가장 잘 어울리는 노래', ' \\t\\t\\t\\t\\t\\t\\t\\t\\t\\t오늘 부산에 과연 눈이 올까...가사처럼 우리 자는 동안에, 과연?', ' \\t\\t\\t\\t\\t\\t\\t\\t\\t\\t전주 눈온다', ' \\t\\t\\t\\t\\t\\t\\t\\t\\t\\t차 안에서 눈을 보면서 이 노래를 들으니 슬펐던 교통정체도 그림같아졌다..', ' \\t\\t\\t\\t\\t\\t\\t\\t\\t\\t뮤직비디오에서 안재홍이 아침에 일어나 침대 위에서 눈물을 훔치던 뒷모습이 짠했다.', ' \\t\\t\\t\\t\\t\\t\\t\\t\\t\\t누ㅜㅜㅜㅜㅜㅜㄴ', ' \\t\\t\\t\\t\\t\\t\\t\\t\\t\\t오늘 들어야제', ' \\t\\t\\t\\t\\t\\t\\t\\t\\t\\t생일 1시간반 남았는데 갑자기 생각나서 들으러 왔다', ' \\t\\t\\t\\t\\t\\t\\t\\t\\t\\t책 프로즌 파이어 생각난다. 앨범 커버도 그렇고', ' \\t\\t\\t\\t\\t\\t\\t\\t\\t\\t노래가 시리다', ' \\t\\t\\t\\t\\t\\t\\t\\t\\t\\t노래 넘 좋다.', ' \\t\\t\\t\\t\\t\\t\\t\\t\\t\\t자이언티 인간성도 진짜 좋은거같음 이년전인가 큰무대도 아니고 관객도 엄청꽉찬건 아니었는데 혼자 완전 콘서트처럼하고감ㅋㅋㅋㅋ 앨범띵곡 다불러주고 곡 추천받아서 해주고 제스처에 팬서비스 잘해주고 다른 사람들은 한두곡 소통없이 무표정으로 끝내던데....그날 무대에서 젤 연예인같았음 ㅎㅎ', ' \\t\\t\\t\\t\\t\\t\\t\\t\\t\\t자이언티같은 시대에 태어난건 축복인듯', ' \\t\\t\\t\\t\\t\\t\\t\\t\\t\\t올해도 어김없이 들으러 왔습니다.', ' \\t\\t\\t\\t\\t\\t\\t\\t\\t\\t징이 보고싶다..3년지낫는디도', ' \\t\\t\\t\\t\\t\\t\\t\\t\\t\\t쭈야 많이 보고 싶네', ' \\t\\t\\t\\t\\t\\t\\t\\t\\t\\t이 노래 나온 순간에 창밖을 봤는데 눈 이 내렸다 그 순간이 잊혀지질 않아..ㅎㅎㅎ', ' \\t\\t\\t\\t\\t\\t\\t\\t\\t\\t눈이들어간 노래는 다죠은가봐', ' \\t\\t\\t\\t\\t\\t\\t\\t\\t\\t첫눈에 설렘을 가장 잘 표현한 곡이다..', ' \\t\\t\\t\\t\\t\\t\\t\\t\\t\\t개슬프고개좋다', ' \\t\\t\\t\\t\\t\\t\\t\\t\\t\\t눈이 올까요~', ' \\t\\t\\t\\t\\t\\t\\t\\t\\t\\t군대가기 싫어지네..', ' \\t\\t\\t\\t\\t\\t\\t\\t\\t\\t듕듕듕듕듕듕듕듕듕듕듕듕듕듕듕듕듕듕듕듕듕듕듕', ' \\t\\t\\t\\t\\t\\t\\t\\t\\t\\t주섬주섬...', ' \\t\\t\\t\\t\\t\\t\\t\\t\\t\\t오늘 들으러 왔더요... 최고', ' \\t\\t\\t\\t\\t\\t\\t\\t\\t\\t와..지금 눈 내려서 이노래랑 같이 들으니 너무 찰떡..ㅠㅠ❤❤ 왜 이렇게 좋은 명곡을 왜 이제야 안거지...ㅠㅠㅠ', ' \\t\\t\\t\\t\\t\\t\\t\\t\\t\\t첫눈 온 기념으로 들으러 왔어요.눈 오는 날에는 이 노래가 최고에요.', ' \\t\\t\\t\\t\\t\\t\\t\\t\\t\\t눈 내리는거 보면 이노래가 너무생각나........', ' \\t\\t\\t\\t\\t\\t\\t\\t\\t\\t지금이넹', ' \\t\\t\\t\\t\\t\\t\\t\\t\\t\\t눈이 오면 찾게되는 노래']\n"
     ]
    }
   ],
   "source": [
    "print(melon_comments) \n",
    "# 개행문자는 크롤링 할 때마다 다르게 생성되어서 안없어짐... 멜론 측에서 난수로 개행문자 생성했어요 엉엉\n",
    "# 그치만 형태소 분석에 개행문자는 있어도 문제없음 ^^"
   ]
  },
  {
   "cell_type": "code",
   "execution_count": 9,
   "metadata": {},
   "outputs": [],
   "source": [
    "# 트위터 형태소 분석기 Okt 를 사용\n",
    "from konlpy.tag import Okt\n",
    "okt = Okt()\n",
    "\n",
    "# 댓글을 리스트로 담기 위해 okts 리스트 생성\n",
    "okts = []"
   ]
  },
  {
   "cell_type": "code",
   "execution_count": 10,
   "metadata": {},
   "outputs": [],
   "source": [
    "for i in range(len(melon_comments)):\n",
    "    okts.append(okt.pos(melon_comments[i]))"
   ]
  },
  {
   "cell_type": "markdown",
   "metadata": {},
   "source": [
    "### 품사 태그별로 어떤 단어가 포함되었나 확인하기"
   ]
  },
  {
   "cell_type": "markdown",
   "metadata": {},
   "source": [
    "#### 명사(Noun) 태그"
   ]
  },
  {
   "cell_type": "code",
   "execution_count": 11,
   "metadata": {},
   "outputs": [],
   "source": [
    "noun = []\n",
    "\n",
    "for i in range(len(okts)):\n",
    "    for j in range(len(okts[i])):\n",
    "        if okts[i][j][1] == 'Noun':\n",
    "            noun.append(okts[i][j][0])"
   ]
  },
  {
   "cell_type": "code",
   "execution_count": 12,
   "metadata": {},
   "outputs": [
    {
     "name": "stdout",
     "output_type": "stream",
     "text": [
      "['가기', '가사', '가사', '가을', '감', '감성', '감성', '감성', '감성', '감성', '감성', '겨울', '겨울', '겨울', '겨울', '겨울', '겨울', '겨울', '겨울', '겨울', '겨울', '겨울', '겨울', '겨울', '겨울', '겨울', '겨울', '겨울', '겨울', '겨울', '겨울', '겨울', '겨울', '겨울', '계단', '계절', '고개', '곡', '곡', '곡', '곡', '관객', '교통', '군대', '그림', '기억', '꼬막', '누', '눈', '눈', '눈', '눈', '눈', '눈', '눈', '눈', '눈', '눈', '눈', '눈', '눈', '눈', '눈', '눈', '눈', '눈', '눈', '눈', '눈', '눈', '눈', '눈', '눈', '눈', '눈', '눈', '눈', '눈', '눈', '눈', '눈', '눈', '눈', '눈', '눈', '눈', '눈', '눈', '눈', '눈', '눈', '눈', '눈', '눈', '눈', '눈', '눈', '눈꽃', '눈꽃', '눈물', '눈사람', '눈사람', '눈사람', '느낌', '댓글', '뒤', '뒷모습', '듣기', '띵곡', '라면', '라운드', '마음', '마음', '마지막', '마침', '막상', '멜론', '명곡', '모습', '무대', '무대', '무표정', '문득', '뮤직비디오', '믹스', '밤', '벚꽃', '벚꽃', '복면', '봄', '봄', '봄', '봄', '부산', '분위기', '새벽', '새벽', '생일', '서든', '서로', '세월', '소공녀', '소공녀', '소공녀', '소통', '손해', '순간', '순간', '아빠', '아침', '아침', '아침', '안재홍', '앨범', '앨범', '약속', '약속', '여름', '여름', '여름', '여름', '여름', '여름', '여름', '여름', '연락', '연락', '연상', '연애', '연예인', '영화', '온도', '응원', '이문세', '이불', '이어폰', '인간성', '일찍', '전주', '제스처', '주섬주섬', '지하철', '차', '차', '차', '차', '찰떡', '창', '창밖', '책', '처음', '최고', '최고', '추천', '축복', '출근길', '침대', '커튼', '코코아', '코코아', '코코아', '콘서트', '특유', '티', '파이어', '팬서비스', '펑펑', '편지', '표현', '풍경', '프로즌', '한번', '한잔', '한잔', '한참', '함박눈', '홀로', '홍차', '회상']\n"
     ]
    }
   ],
   "source": [
    "# 불용어 제거하기\n",
    "noun = list(noun) \n",
    "\n",
    "real_noun = []\n",
    "for w in noun:\n",
    "    if w not in stop_words:\n",
    "        real_noun.append(w)\n",
    "\n",
    "real_noun.sort() # ㄱㄴㄷ 순으로 정렬\n",
    "print(real_noun)"
   ]
  },
  {
   "cell_type": "markdown",
   "metadata": {},
   "source": [
    "#### 형용사(Adjective) 태그"
   ]
  },
  {
   "cell_type": "code",
   "execution_count": 13,
   "metadata": {},
   "outputs": [],
   "source": [
    "adj = []\n",
    "\n",
    "for i in range(len(okts)):\n",
    "    for j in range(len(okts[i])):\n",
    "        if okts[i][j][1] == 'Adjective' and len(okts[i][j][0]) > 1:\n",
    "            adj.append(okts[i][j][0])"
   ]
  },
  {
   "cell_type": "code",
   "execution_count": 14,
   "metadata": {},
   "outputs": [
    {
     "name": "stdout",
     "output_type": "stream",
     "text": [
      "['따뜻함이', '가득한', '아련해', '지긋지긋했던', '그리워지네', '따뜻한', '고마워요', '그리워', '서늘함도', '변했고', '미안한', '좋았던', '슬펐던', '같아졌다', '짠했다', '설렘을', '슬프', '싫어지네']\n"
     ]
    }
   ],
   "source": [
    "real_adj = []\n",
    "for w in adj:\n",
    "    if w not in stop_words:\n",
    "        real_adj.append(w)\n",
    "        \n",
    "print(real_adj)"
   ]
  },
  {
   "cell_type": "markdown",
   "metadata": {},
   "source": [
    "### 명사/형용사 세트에서 등장한 단어 중 TOP 10 만 뽑기"
   ]
  },
  {
   "cell_type": "code",
   "execution_count": 15,
   "metadata": {},
   "outputs": [],
   "source": [
    "from collections import Counter"
   ]
  },
  {
   "cell_type": "code",
   "execution_count": 24,
   "metadata": {},
   "outputs": [],
   "source": [
    "real_top10_noun = []\n",
    "real_top10_adj = []"
   ]
  },
  {
   "cell_type": "code",
   "execution_count": 25,
   "metadata": {},
   "outputs": [],
   "source": [
    "count_noun = Counter(real_noun)\n",
    "\n",
    "top10_noun = count_noun.most_common(10)\n",
    "\n",
    "for i in range(len(top10_noun)):\n",
    "    real_top10_noun.append(top10_noun[i][0])"
   ]
  },
  {
   "cell_type": "code",
   "execution_count": 26,
   "metadata": {
    "scrolled": true
   },
   "outputs": [],
   "source": [
    "count_adj = Counter(real_adj)\n",
    "\n",
    "top10_adj = count_adj.most_common(10)\n",
    "\n",
    "for i in range(len(top10_adj)):\n",
    "    real_top10_adj.append(top10_adj[i][0])"
   ]
  },
  {
   "cell_type": "code",
   "execution_count": 27,
   "metadata": {},
   "outputs": [
    {
     "data": {
      "text/plain": [
       "['눈', '겨울', '여름', '감성', '곡', '봄', '차', '눈사람', '소공녀', '아침']"
      ]
     },
     "execution_count": 27,
     "metadata": {},
     "output_type": "execute_result"
    }
   ],
   "source": [
    "real_top10_noun"
   ]
  },
  {
   "cell_type": "code",
   "execution_count": 28,
   "metadata": {},
   "outputs": [
    {
     "data": {
      "text/plain": [
       "['따뜻함이', '가득한', '아련해', '지긋지긋했던', '그리워지네', '따뜻한', '고마워요', '그리워', '서늘함도', '변했고']"
      ]
     },
     "execution_count": 28,
     "metadata": {},
     "output_type": "execute_result"
    }
   ],
   "source": [
    "real_top10_adj"
   ]
  },
  {
   "cell_type": "code",
   "execution_count": null,
   "metadata": {},
   "outputs": [],
   "source": []
  }
 ],
 "metadata": {
  "kernelspec": {
   "display_name": "Python 3",
   "language": "python",
   "name": "python3"
  },
  "language_info": {
   "codemirror_mode": {
    "name": "ipython",
    "version": 3
   },
   "file_extension": ".py",
   "mimetype": "text/x-python",
   "name": "python",
   "nbconvert_exporter": "python",
   "pygments_lexer": "ipython3",
   "version": "3.6.13"
  }
 },
 "nbformat": 4,
 "nbformat_minor": 4
}
