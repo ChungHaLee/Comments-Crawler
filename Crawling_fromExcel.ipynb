{
 "cells": [
  {
   "cell_type": "markdown",
   "metadata": {},
   "source": [
    "# Crawling Emotional Words from Excel Data (Youtube Comments)"
   ]
  },
  {
   "cell_type": "markdown",
   "metadata": {},
   "source": [
    "**유튜브 링크가 첨부된 엑셀 파일을 불러와서 해당 유튜브 링크 영상의 댓글로부터 추출한 감정 단어를 더해주는 코드**\n",
    "\n",
    "한번 보시고, 이 방법으로 감정 단어를 추출하는 것이 괜찮은지 생각을...\n",
    "- 품사가 '형용사'인 것만 뽑아도 댓글의 특성상 불용어가 너무 많다 (예외처리 비용 증가) -> 이 경우 불용어에 있는 규칙을 찾아서 아예 불용어 사전을 만들어버리는 방법이 있음.\n",
    "- 크롤링을 통해 콘텐츠별로 감정 단어를 뽑아낼 수는 있으나, 콘텐츠별로 뚜렷한 경향성이 다르게 나올까? 라는 의문은 있음."
   ]
  },
  {
   "cell_type": "code",
   "execution_count": 1,
   "metadata": {},
   "outputs": [],
   "source": [
    "import warnings\n",
    "warnings.filterwarnings(action='ignore')\n",
    "from selenium import webdriver as wd\n",
    "from webdriver_manager.chrome import ChromeDriverManager\n",
    "from bs4 import BeautifulSoup\n",
    "import time\n",
    "import pandas as pd\n",
    "from konlpy.tag import Okt\n",
    "okt = Okt()"
   ]
  },
  {
   "cell_type": "code",
   "execution_count": 2,
   "metadata": {},
   "outputs": [],
   "source": [
    "# 불용어 사전 불러오기\n",
    "with open('stop_words.txt', 'r') as file:\n",
    "    stop_word = file.readline()\n",
    "    stop_word = str(stop_word)\n",
    "    \n",
    "stop_word = stop_word.replace(\"\\ufeff\", '').replace(\"'\", '').replace(\",\", '').replace('\\n', '').replace(\"’\", '').replace(\"‘\", '')\n",
    "stop_words = stop_word.split()"
   ]
  },
  {
   "cell_type": "code",
   "execution_count": 3,
   "metadata": {},
   "outputs": [
    {
     "data": {
      "text/html": [
       "<div>\n",
       "<style scoped>\n",
       "    .dataframe tbody tr th:only-of-type {\n",
       "        vertical-align: middle;\n",
       "    }\n",
       "\n",
       "    .dataframe tbody tr th {\n",
       "        vertical-align: top;\n",
       "    }\n",
       "\n",
       "    .dataframe thead th {\n",
       "        text-align: right;\n",
       "    }\n",
       "</style>\n",
       "<table border=\"1\" class=\"dataframe\">\n",
       "  <thead>\n",
       "    <tr style=\"text-align: right;\">\n",
       "      <th></th>\n",
       "      <th>Song Title</th>\n",
       "      <th>Video Link</th>\n",
       "      <th>Emotional Words</th>\n",
       "    </tr>\n",
       "  </thead>\n",
       "  <tbody>\n",
       "    <tr>\n",
       "      <th>0</th>\n",
       "      <td>Savage</td>\n",
       "      <td>https://www.youtube.com/watch?v=KJ2waPcG9OU</td>\n",
       "      <td>NaN</td>\n",
       "    </tr>\n",
       "    <tr>\n",
       "      <th>1</th>\n",
       "      <td>아낙네</td>\n",
       "      <td>https://www.youtube.com/watch?v=mi_UM-Prb1g</td>\n",
       "      <td>NaN</td>\n",
       "    </tr>\n",
       "    <tr>\n",
       "      <th>2</th>\n",
       "      <td>유엔 빌리지</td>\n",
       "      <td>https://www.youtube.com/watch?v=V8nu-jfka5E</td>\n",
       "      <td>NaN</td>\n",
       "    </tr>\n",
       "    <tr>\n",
       "      <th>3</th>\n",
       "      <td>낙하</td>\n",
       "      <td>https://www.youtube.com/watch?v=-bk9pR5IMm0</td>\n",
       "      <td>NaN</td>\n",
       "    </tr>\n",
       "    <tr>\n",
       "      <th>4</th>\n",
       "      <td>Toy</td>\n",
       "      <td>https://www.youtube.com/watch?v=i0wS2fVTYgg</td>\n",
       "      <td>NaN</td>\n",
       "    </tr>\n",
       "    <tr>\n",
       "      <th>5</th>\n",
       "      <td>So Hot (Blackpink)</td>\n",
       "      <td>https://www.youtube.com/watch?v=kT7AIdX5cMI</td>\n",
       "      <td>NaN</td>\n",
       "    </tr>\n",
       "    <tr>\n",
       "      <th>6</th>\n",
       "      <td>Don't Call Me</td>\n",
       "      <td>https://www.youtube.com/watch?v=5-UHUjezfC8</td>\n",
       "      <td>NaN</td>\n",
       "    </tr>\n",
       "    <tr>\n",
       "      <th>7</th>\n",
       "      <td>시간을 달려서</td>\n",
       "      <td>https://www.youtube.com/watch?v=pN1LbNUFk8s</td>\n",
       "      <td>NaN</td>\n",
       "    </tr>\n",
       "    <tr>\n",
       "      <th>8</th>\n",
       "      <td>Dolphin</td>\n",
       "      <td>https://www.youtube.com/watch?v=3aEdigFwxkE</td>\n",
       "      <td>NaN</td>\n",
       "    </tr>\n",
       "    <tr>\n",
       "      <th>9</th>\n",
       "      <td>Make A Wish</td>\n",
       "      <td>https://www.youtube.com/watch?v=umM2zt0DH5g</td>\n",
       "      <td>NaN</td>\n",
       "    </tr>\n",
       "  </tbody>\n",
       "</table>\n",
       "</div>"
      ],
      "text/plain": [
       "           Song Title                                   Video Link  \\\n",
       "0              Savage  https://www.youtube.com/watch?v=KJ2waPcG9OU   \n",
       "1                 아낙네  https://www.youtube.com/watch?v=mi_UM-Prb1g   \n",
       "2              유엔 빌리지  https://www.youtube.com/watch?v=V8nu-jfka5E   \n",
       "3                  낙하  https://www.youtube.com/watch?v=-bk9pR5IMm0   \n",
       "4                 Toy  https://www.youtube.com/watch?v=i0wS2fVTYgg   \n",
       "5  So Hot (Blackpink)  https://www.youtube.com/watch?v=kT7AIdX5cMI   \n",
       "6       Don't Call Me  https://www.youtube.com/watch?v=5-UHUjezfC8   \n",
       "7             시간을 달려서  https://www.youtube.com/watch?v=pN1LbNUFk8s   \n",
       "8             Dolphin  https://www.youtube.com/watch?v=3aEdigFwxkE   \n",
       "9         Make A Wish  https://www.youtube.com/watch?v=umM2zt0DH5g   \n",
       "\n",
       "   Emotional Words  \n",
       "0              NaN  \n",
       "1              NaN  \n",
       "2              NaN  \n",
       "3              NaN  \n",
       "4              NaN  \n",
       "5              NaN  \n",
       "6              NaN  \n",
       "7              NaN  \n",
       "8              NaN  \n",
       "9              NaN  "
      ]
     },
     "execution_count": 3,
     "metadata": {},
     "output_type": "execute_result"
    }
   ],
   "source": [
    "# 곡 제목, 유튜브 링크가 있는 데이터 프레임(엑셀 파일)을 불러옴\n",
    "data = pd.read_excel('/Users/lifeofpy/WebCrwaling/youtube_with_comments.xlsx')\n",
    "data"
   ]
  },
  {
   "cell_type": "code",
   "execution_count": 4,
   "metadata": {},
   "outputs": [
    {
     "data": {
      "text/plain": [
       "nan"
      ]
     },
     "execution_count": 4,
     "metadata": {},
     "output_type": "execute_result"
    }
   ],
   "source": [
    "data['Emotional Words'][0]  # 비어있는 nan 값의 Emotional Words 열을 감정 단어로 채우자!"
   ]
  },
  {
   "cell_type": "code",
   "execution_count": 5,
   "metadata": {},
   "outputs": [
    {
     "data": {
      "text/plain": [
       "['https://www.youtube.com/watch?v=KJ2waPcG9OU',\n",
       " 'https://www.youtube.com/watch?v=mi_UM-Prb1g',\n",
       " 'https://www.youtube.com/watch?v=V8nu-jfka5E',\n",
       " 'https://www.youtube.com/watch?v=-bk9pR5IMm0',\n",
       " 'https://www.youtube.com/watch?v=i0wS2fVTYgg',\n",
       " 'https://www.youtube.com/watch?v=kT7AIdX5cMI',\n",
       " 'https://www.youtube.com/watch?v=5-UHUjezfC8',\n",
       " 'https://www.youtube.com/watch?v=pN1LbNUFk8s',\n",
       " 'https://www.youtube.com/watch?v=3aEdigFwxkE',\n",
       " 'https://www.youtube.com/watch?v=umM2zt0DH5g']"
      ]
     },
     "execution_count": 5,
     "metadata": {},
     "output_type": "execute_result"
    }
   ],
   "source": [
    "data_lst = data['Video Link'].tolist() # Series to List\n",
    "data_lst"
   ]
  },
  {
   "cell_type": "code",
   "execution_count": 6,
   "metadata": {},
   "outputs": [],
   "source": [
    "for k in range(len(data)):\n",
    "    driver = wd.Chrome(executable_path='/Users/lifeofpy/Desktop/chromedriver')\n",
    "    url = data_lst[k] # url 에 영상 링크를 하나씩 담아준다\n",
    "    driver.get(url)\n",
    "\n",
    "    last_page_height = driver.execute_script(\"return document.documentElement.scrollHeight\")\n",
    "\n",
    "\n",
    "    # 유튜브 프리미엄 유도 팝업창 피하기\n",
    "    try:\n",
    "        driver.find_element_by_css_selector(\"#dismiss-button > a\").click()\n",
    "    except:\n",
    "        pass\n",
    "\n",
    "\n",
    "    # 3초마다 자동 스크롤해 크롤링하기\n",
    "    while True: \n",
    "        driver.execute_script(\"window.scrollTo(0, document.documentElement.scrollHeight);\") \n",
    "        time.sleep(3.0) \n",
    "        new_page_height = driver.execute_script(\"return document.documentElement.scrollHeight\") \n",
    "        if new_page_height == last_page_height: \n",
    "            break \n",
    "        last_page_height = new_page_height \n",
    "\n",
    "\n",
    "    html_source = driver.page_source\n",
    "\n",
    "    driver.close()\n",
    "\n",
    "    soup = BeautifulSoup(html_source, 'lxml')\n",
    "    \n",
    "    # 댓글에 해당하는 html 태그 가져오기\n",
    "    youtube_comments = soup.select('yt-formatted-string#content-text')\n",
    "        \n",
    "    okts = []\n",
    "    \n",
    "    for i in range(len(youtube_comments)):\n",
    "        okts.append(okt.pos(youtube_comments[i].text))\n",
    "    \n",
    "    # '감정 단어'의 품사는 '형용사'이므로 형용사 태그만 adj 리스트에 담기\n",
    "    adj = []\n",
    "\n",
    "    for i in range(len(okts)):\n",
    "        for j in range(len(okts[i])):\n",
    "            if okts[i][j][1] == 'Adjective' and len(okts[i][j][0]) > 1:\n",
    "                adj.append(okts[i][j][0])\n",
    "                \n",
    "    real_adj = []\n",
    "    \n",
    "    # 불용어 제외하고 real_adj 에 담기\n",
    "    for w in adj:\n",
    "        if w not in stop_words:\n",
    "            real_adj.append(w)\n",
    "\n",
    "    data.iloc[k, 2] = str(real_adj)"
   ]
  },
  {
   "cell_type": "code",
   "execution_count": 7,
   "metadata": {},
   "outputs": [],
   "source": [
    "data.to_excel('Video_with_Emotional_Words.xlsx', index=False)"
   ]
  },
  {
   "cell_type": "code",
   "execution_count": null,
   "metadata": {},
   "outputs": [],
   "source": []
  }
 ],
 "metadata": {
  "kernelspec": {
   "display_name": "Python 3",
   "language": "python",
   "name": "python3"
  },
  "language_info": {
   "codemirror_mode": {
    "name": "ipython",
    "version": 3
   },
   "file_extension": ".py",
   "mimetype": "text/x-python",
   "name": "python",
   "nbconvert_exporter": "python",
   "pygments_lexer": "ipython3",
   "version": "3.8.5"
  }
 },
 "nbformat": 4,
 "nbformat_minor": 4
}
